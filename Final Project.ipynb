{
 "cells": [
  {
   "cell_type": "markdown",
   "metadata": {},
   "source": [
    "# COGS 108 Final Project"
   ]
  },
  {
   "cell_type": "markdown",
   "metadata": {},
   "source": [
    "## Group Members: \n",
    "- A13382470"
   ]
  },
  {
   "cell_type": "markdown",
   "metadata": {},
   "source": [
    "### Introduction and Background:\n",
    "\n"
   ]
  },
  {
   "cell_type": "markdown",
   "metadata": {},
   "source": [
    "Which components of a kickstarter are most important for a fundraiser to reach its goal? How do factors such as date started, duration, money goal, and category of a kickstarter , comparatively, influence fundraiser success? Answering these questions can guide those who are looking to create their own kickstarter and start a successful business. There have been previous projects in this area studying what separates successful kickstarters from failed ones. We take a different approach and analyze how these factors rank against each other.  \n",
    "\n",
    "Our initial hypothesis is that kickstarter category will be the most important factor in kickstarter success, due to some categories being inherently more popular and appealing than others. Categories such as “Design and Tech” category will likely be more successful due to the popularity surrounding technology-driven products.\n"
   ]
  },
  {
   "cell_type": "markdown",
   "metadata": {},
   "source": [
    "### Data Description:\n"
   ]
  },
  {
   "cell_type": "markdown",
   "metadata": {},
   "source": [
    "Dataset Name: Kickstarter Datasets (Web Robots)\n",
    "\n",
    "Link to the dataset: https://webrobots.io/kickstarter-datasets/\n",
    "\n",
    "Number of observations: 207k\n",
    "\n",
    "The dataset is a large (200k+) collection of data about different Kickstarters, including whether they succeed in reaching their goal. Other information pertaining to the kickstarter range from the name and category of the kickstarter to how much it is asking for or how long the fundraising period was.\n",
    "\n",
    "The information includes: ID, internal kickstarter id, name, name of project, category, main_category, category of campaign, currency used to support, deadline for crowdfunding, fundraising goal, date launched, amount pledged by \"crowd\", current condition the project is in.\n"
   ]
  },
  {
   "cell_type": "markdown",
   "metadata": {},
   "source": [
    "### Starting out: imports"
   ]
  },
  {
   "cell_type": "code",
   "execution_count": 5,
   "metadata": {},
   "outputs": [],
   "source": [
    "# Import libraries\n",
    "import numpy as np\n",
    "import pandas as pd\n",
    "import matplotlib.pyplot as plt\n",
    "import seaborn as sns\n",
    "\n",
    "import json\n",
    "import operator\n",
    "\n",
    "from datetime import datetime, timedelta"
   ]
  },
  {
   "cell_type": "markdown",
   "metadata": {},
   "source": [
    "### Data Cleaning and Pre-processing"
   ]
  },
  {
   "cell_type": "markdown",
   "metadata": {},
   "source": [
    "Here we load the JSON file and select the columns that we want from the web-scraper's data. We also have to apply a function to parse the category name as it is separated by a forward slash "
   ]
  },
  {
   "cell_type": "code",
   "execution_count": 6,
   "metadata": {
    "scrolled": false
   },
   "outputs": [
    {
     "data": {
      "text/html": [
       "<div>\n",
       "<style scoped>\n",
       "    .dataframe tbody tr th:only-of-type {\n",
       "        vertical-align: middle;\n",
       "    }\n",
       "\n",
       "    .dataframe tbody tr th {\n",
       "        vertical-align: top;\n",
       "    }\n",
       "\n",
       "    .dataframe thead th {\n",
       "        text-align: right;\n",
       "    }\n",
       "</style>\n",
       "<table border=\"1\" class=\"dataframe\">\n",
       "  <thead>\n",
       "    <tr style=\"text-align: right;\">\n",
       "      <th></th>\n",
       "      <th>id</th>\n",
       "      <th>name</th>\n",
       "      <th>blurb</th>\n",
       "      <th>goal</th>\n",
       "      <th>pledged</th>\n",
       "      <th>state</th>\n",
       "      <th>country</th>\n",
       "      <th>deadline</th>\n",
       "      <th>created_at</th>\n",
       "      <th>launched_at</th>\n",
       "      <th>backers_count</th>\n",
       "      <th>usd_pledged</th>\n",
       "      <th>category</th>\n",
       "      <th>subcategory</th>\n",
       "    </tr>\n",
       "  </thead>\n",
       "  <tbody>\n",
       "    <tr>\n",
       "      <th>0</th>\n",
       "      <td>1555581815</td>\n",
       "      <td>Big Top Without Borders</td>\n",
       "      <td>A documentary about two circuses in remote cor...</td>\n",
       "      <td>25000.0</td>\n",
       "      <td>27455.55</td>\n",
       "      <td>successful</td>\n",
       "      <td>US</td>\n",
       "      <td>1353256229</td>\n",
       "      <td>1339525842</td>\n",
       "      <td>1350660629</td>\n",
       "      <td>170</td>\n",
       "      <td>27455.55</td>\n",
       "      <td>film &amp; video</td>\n",
       "      <td>Documentary</td>\n",
       "    </tr>\n",
       "    <tr>\n",
       "      <th>1</th>\n",
       "      <td>583419300</td>\n",
       "      <td>The Story of \"Pweep\": From Egg - To Peacock</td>\n",
       "      <td>A multi-media IPad book telling the true story...</td>\n",
       "      <td>500.0</td>\n",
       "      <td>535.00</td>\n",
       "      <td>successful</td>\n",
       "      <td>US</td>\n",
       "      <td>1355949544</td>\n",
       "      <td>1351941026</td>\n",
       "      <td>1353357544</td>\n",
       "      <td>10</td>\n",
       "      <td>535.0</td>\n",
       "      <td>publishing</td>\n",
       "      <td>Children's Books</td>\n",
       "    </tr>\n",
       "    <tr>\n",
       "      <th>2</th>\n",
       "      <td>1745190062</td>\n",
       "      <td>DC Radio</td>\n",
       "      <td>We are college students that get drunk and the...</td>\n",
       "      <td>3500.0</td>\n",
       "      <td>0.00</td>\n",
       "      <td>failed</td>\n",
       "      <td>CA</td>\n",
       "      <td>1418916011</td>\n",
       "      <td>1415917256</td>\n",
       "      <td>1416324011</td>\n",
       "      <td>0</td>\n",
       "      <td>0.0</td>\n",
       "      <td>journalism</td>\n",
       "      <td>Audio</td>\n",
       "    </tr>\n",
       "    <tr>\n",
       "      <th>3</th>\n",
       "      <td>1995203117</td>\n",
       "      <td>Ali Bangerz- two New Full Lenght Albums</td>\n",
       "      <td>its Ali bangerz,its time to stand up for other...</td>\n",
       "      <td>20000.0</td>\n",
       "      <td>0.00</td>\n",
       "      <td>failed</td>\n",
       "      <td>US</td>\n",
       "      <td>1449345000</td>\n",
       "      <td>1446664703</td>\n",
       "      <td>1446672167</td>\n",
       "      <td>0</td>\n",
       "      <td>0.0</td>\n",
       "      <td>music</td>\n",
       "      <td>World Music</td>\n",
       "    </tr>\n",
       "    <tr>\n",
       "      <th>4</th>\n",
       "      <td>359013399</td>\n",
       "      <td>Deja-Vu: Dissecting Memory on Camera</td>\n",
       "      <td>A young neuroscientist attempts to reconnect w...</td>\n",
       "      <td>5000.0</td>\n",
       "      <td>6705.00</td>\n",
       "      <td>successful</td>\n",
       "      <td>US</td>\n",
       "      <td>1287200340</td>\n",
       "      <td>1284003536</td>\n",
       "      <td>1284042614</td>\n",
       "      <td>62</td>\n",
       "      <td>6705.0</td>\n",
       "      <td>film &amp; video</td>\n",
       "      <td>Documentary</td>\n",
       "    </tr>\n",
       "  </tbody>\n",
       "</table>\n",
       "</div>"
      ],
      "text/plain": [
       "           id                                         name  \\\n",
       "0  1555581815                      Big Top Without Borders   \n",
       "1   583419300  The Story of \"Pweep\": From Egg - To Peacock   \n",
       "2  1745190062                                     DC Radio   \n",
       "3  1995203117      Ali Bangerz- two New Full Lenght Albums   \n",
       "4   359013399         Deja-Vu: Dissecting Memory on Camera   \n",
       "\n",
       "                                               blurb     goal   pledged  \\\n",
       "0  A documentary about two circuses in remote cor...  25000.0  27455.55   \n",
       "1  A multi-media IPad book telling the true story...    500.0    535.00   \n",
       "2  We are college students that get drunk and the...   3500.0      0.00   \n",
       "3  its Ali bangerz,its time to stand up for other...  20000.0      0.00   \n",
       "4  A young neuroscientist attempts to reconnect w...   5000.0   6705.00   \n",
       "\n",
       "        state country    deadline  created_at  launched_at  backers_count  \\\n",
       "0  successful      US  1353256229  1339525842   1350660629            170   \n",
       "1  successful      US  1355949544  1351941026   1353357544             10   \n",
       "2      failed      CA  1418916011  1415917256   1416324011              0   \n",
       "3      failed      US  1449345000  1446664703   1446672167              0   \n",
       "4  successful      US  1287200340  1284003536   1284042614             62   \n",
       "\n",
       "  usd_pledged      category       subcategory  \n",
       "0    27455.55  film & video       Documentary  \n",
       "1       535.0    publishing  Children's Books  \n",
       "2         0.0    journalism             Audio  \n",
       "3         0.0         music       World Music  \n",
       "4      6705.0  film & video       Documentary  "
      ]
     },
     "execution_count": 6,
     "metadata": {},
     "output_type": "execute_result"
    }
   ],
   "source": [
    "with open('Kickstarter_2018-12-13T03_20_05_701Z.json') as f:\n",
    "    \n",
    "    data = []\n",
    "    \n",
    "    # Iterate through each line in file which is a JSON object\n",
    "    for line in f:\n",
    "        \n",
    "        # Load object\n",
    "        obj = json.loads(line)\n",
    " \n",
    "        # Choose columns\n",
    "        item = []\n",
    "        item.append(obj['data']['id'])\n",
    "        item.append(obj['data']['name'])\n",
    "        item.append(obj['data']['blurb'])\n",
    "        item.append(obj['data']['goal'])\n",
    "        item.append(obj['data']['pledged'])\n",
    "        item.append(obj['data']['state'])\n",
    "        item.append(obj['data']['country'])\n",
    "        item.append(obj['data']['deadline'])\n",
    "        item.append(obj['data']['created_at'])\n",
    "        item.append(obj['data']['launched_at'])\n",
    "        item.append(obj['data']['backers_count'])\n",
    "        item.append(obj['data']['usd_pledged'])\n",
    "        item.append(obj['data']['category']['slug'])\n",
    "        item.append(obj['data']['category']['name'])\n",
    "        data.append(item)\n",
    "        \n",
    "# Fix columns list if adding/removing columns\n",
    "columns = ['id', 'name', 'blurb', 'goal', 'pledged', 'state', 'country', 'deadline', 'created_at', 'launched_at', 'backers_count', 'usd_pledged', 'category', 'subcategory']\n",
    "df = pd.DataFrame(data, columns=columns)\n",
    "\n",
    "def getCategory(name):\n",
    "    return name.split('/')[0]\n",
    "\n",
    "# Fix category\n",
    "df['category'] = df['category'].apply(getCategory)\n",
    "df.head()"
   ]
  },
  {
   "cell_type": "markdown",
   "metadata": {},
   "source": [
    "Next, we notice that the deadline, created_at, and launched_at values look odd. Turns out they are in unix time, we we will transform them to be more readable."
   ]
  },
  {
   "cell_type": "code",
   "execution_count": 7,
   "metadata": {},
   "outputs": [
    {
     "data": {
      "text/html": [
       "<div>\n",
       "<style scoped>\n",
       "    .dataframe tbody tr th:only-of-type {\n",
       "        vertical-align: middle;\n",
       "    }\n",
       "\n",
       "    .dataframe tbody tr th {\n",
       "        vertical-align: top;\n",
       "    }\n",
       "\n",
       "    .dataframe thead th {\n",
       "        text-align: right;\n",
       "    }\n",
       "</style>\n",
       "<table border=\"1\" class=\"dataframe\">\n",
       "  <thead>\n",
       "    <tr style=\"text-align: right;\">\n",
       "      <th></th>\n",
       "      <th>id</th>\n",
       "      <th>name</th>\n",
       "      <th>blurb</th>\n",
       "      <th>goal</th>\n",
       "      <th>pledged</th>\n",
       "      <th>state</th>\n",
       "      <th>country</th>\n",
       "      <th>backers_count</th>\n",
       "      <th>usd_pledged</th>\n",
       "      <th>category</th>\n",
       "      <th>subcategory</th>\n",
       "      <th>launched_at_str</th>\n",
       "      <th>deadline_str</th>\n",
       "      <th>duration_days</th>\n",
       "      <th>deadline_int</th>\n",
       "    </tr>\n",
       "  </thead>\n",
       "  <tbody>\n",
       "    <tr>\n",
       "      <th>0</th>\n",
       "      <td>1555581815</td>\n",
       "      <td>Big Top Without Borders</td>\n",
       "      <td>A documentary about two circuses in remote cor...</td>\n",
       "      <td>25000.0</td>\n",
       "      <td>27455.55</td>\n",
       "      <td>successful</td>\n",
       "      <td>US</td>\n",
       "      <td>170</td>\n",
       "      <td>27455.55</td>\n",
       "      <td>film &amp; video</td>\n",
       "      <td>Documentary</td>\n",
       "      <td>2012-10-19 06:30:29</td>\n",
       "      <td>2012-11-18 06:30:29</td>\n",
       "      <td>30.041667</td>\n",
       "      <td>11182012</td>\n",
       "    </tr>\n",
       "    <tr>\n",
       "      <th>1</th>\n",
       "      <td>583419300</td>\n",
       "      <td>The Story of \"Pweep\": From Egg - To Peacock</td>\n",
       "      <td>A multi-media IPad book telling the true story...</td>\n",
       "      <td>500.0</td>\n",
       "      <td>535.00</td>\n",
       "      <td>successful</td>\n",
       "      <td>US</td>\n",
       "      <td>10</td>\n",
       "      <td>535.0</td>\n",
       "      <td>publishing</td>\n",
       "      <td>Children's Books</td>\n",
       "      <td>2012-11-19 10:39:04</td>\n",
       "      <td>2012-12-19 10:39:04</td>\n",
       "      <td>30.000000</td>\n",
       "      <td>12192012</td>\n",
       "    </tr>\n",
       "    <tr>\n",
       "      <th>2</th>\n",
       "      <td>1745190062</td>\n",
       "      <td>DC Radio</td>\n",
       "      <td>We are college students that get drunk and the...</td>\n",
       "      <td>3500.0</td>\n",
       "      <td>0.00</td>\n",
       "      <td>failed</td>\n",
       "      <td>CA</td>\n",
       "      <td>0</td>\n",
       "      <td>0.0</td>\n",
       "      <td>journalism</td>\n",
       "      <td>Audio</td>\n",
       "      <td>2014-11-18 05:20:11</td>\n",
       "      <td>2014-12-18 05:20:11</td>\n",
       "      <td>30.000000</td>\n",
       "      <td>12182014</td>\n",
       "    </tr>\n",
       "    <tr>\n",
       "      <th>3</th>\n",
       "      <td>1995203117</td>\n",
       "      <td>Ali Bangerz- two New Full Lenght Albums</td>\n",
       "      <td>its Ali bangerz,its time to stand up for other...</td>\n",
       "      <td>20000.0</td>\n",
       "      <td>0.00</td>\n",
       "      <td>failed</td>\n",
       "      <td>US</td>\n",
       "      <td>0</td>\n",
       "      <td>0.0</td>\n",
       "      <td>music</td>\n",
       "      <td>World Music</td>\n",
       "      <td>2015-11-04 11:22:47</td>\n",
       "      <td>2015-12-05 09:50:00</td>\n",
       "      <td>30.935567</td>\n",
       "      <td>12052015</td>\n",
       "    </tr>\n",
       "    <tr>\n",
       "      <th>4</th>\n",
       "      <td>359013399</td>\n",
       "      <td>Deja-Vu: Dissecting Memory on Camera</td>\n",
       "      <td>A young neuroscientist attempts to reconnect w...</td>\n",
       "      <td>5000.0</td>\n",
       "      <td>6705.00</td>\n",
       "      <td>successful</td>\n",
       "      <td>US</td>\n",
       "      <td>62</td>\n",
       "      <td>6705.0</td>\n",
       "      <td>film &amp; video</td>\n",
       "      <td>Documentary</td>\n",
       "      <td>2010-09-09 05:30:14</td>\n",
       "      <td>2010-10-15 18:39:00</td>\n",
       "      <td>36.547755</td>\n",
       "      <td>10152010</td>\n",
       "    </tr>\n",
       "  </tbody>\n",
       "</table>\n",
       "</div>"
      ],
      "text/plain": [
       "           id                                         name  \\\n",
       "0  1555581815                      Big Top Without Borders   \n",
       "1   583419300  The Story of \"Pweep\": From Egg - To Peacock   \n",
       "2  1745190062                                     DC Radio   \n",
       "3  1995203117      Ali Bangerz- two New Full Lenght Albums   \n",
       "4   359013399         Deja-Vu: Dissecting Memory on Camera   \n",
       "\n",
       "                                               blurb     goal   pledged  \\\n",
       "0  A documentary about two circuses in remote cor...  25000.0  27455.55   \n",
       "1  A multi-media IPad book telling the true story...    500.0    535.00   \n",
       "2  We are college students that get drunk and the...   3500.0      0.00   \n",
       "3  its Ali bangerz,its time to stand up for other...  20000.0      0.00   \n",
       "4  A young neuroscientist attempts to reconnect w...   5000.0   6705.00   \n",
       "\n",
       "        state country  backers_count usd_pledged      category  \\\n",
       "0  successful      US            170    27455.55  film & video   \n",
       "1  successful      US             10       535.0    publishing   \n",
       "2      failed      CA              0         0.0    journalism   \n",
       "3      failed      US              0         0.0         music   \n",
       "4  successful      US             62      6705.0  film & video   \n",
       "\n",
       "        subcategory      launched_at_str         deadline_str  duration_days  \\\n",
       "0       Documentary  2012-10-19 06:30:29  2012-11-18 06:30:29      30.041667   \n",
       "1  Children's Books  2012-11-19 10:39:04  2012-12-19 10:39:04      30.000000   \n",
       "2             Audio  2014-11-18 05:20:11  2014-12-18 05:20:11      30.000000   \n",
       "3       World Music  2015-11-04 11:22:47  2015-12-05 09:50:00      30.935567   \n",
       "4       Documentary  2010-09-09 05:30:14  2010-10-15 18:39:00      36.547755   \n",
       "\n",
       "  deadline_int  \n",
       "0     11182012  \n",
       "1     12192012  \n",
       "2     12182014  \n",
       "3     12052015  \n",
       "4     10152010  "
      ]
     },
     "execution_count": 7,
     "metadata": {},
     "output_type": "execute_result"
    }
   ],
   "source": [
    "deadline_str = []\n",
    "duration_str = []\n",
    "launch_date = []\n",
    "deadline_int = []\n",
    "\n",
    "for i, row in df.iterrows():\n",
    "\n",
    "    unix_ts = int(row['deadline'])\n",
    "    dt = (datetime.fromtimestamp(unix_ts) - timedelta(hours=2)).strftime('%Y-%m-%d %H:%M:%S')\n",
    "    deadline_str.append(dt)\n",
    "    \n",
    "    launch_date_ts = int(row['launched_at'])\n",
    "    launch_dt = (datetime.fromtimestamp(launch_date_ts) - timedelta(hours=2)).strftime('%Y-%m-%d %H:%M:%S')\n",
    "    launch_date.append(launch_dt)\n",
    "    \n",
    "    duration_unix_ts = unix_ts - launch_date_ts\n",
    "    duration_days = (duration_unix_ts / (60*60*24))\n",
    "    duration_str.append(duration_days)\n",
    "    \n",
    "df['launched_at_str'] = launch_date\n",
    "df['deadline_str'] = deadline_str\n",
    "df['duration_days'] = duration_str\n",
    "\n",
    "for i, row in df.iterrows():\n",
    "    \n",
    "    dt = row['deadline_str']\n",
    "    dt2 = dt.split(' ')[0].split('-')[1]+dt.split(' ')[0].split('-')[2]+dt.split(' ')[0].split('-')[0]\n",
    "    deadline_int.append(dt2)\n",
    "\n",
    "df['deadline_int'] = deadline_int\n",
    "\n",
    "# Drop columns we don't need anymore\n",
    "df.drop(labels=['deadline', 'created_at', 'launched_at'], axis=1, inplace=True)\n",
    "    \n",
    "# Check df\n",
    "df.head()"
   ]
  },
  {
   "cell_type": "markdown",
   "metadata": {},
   "source": [
    "Check for any null values in our DataFrame"
   ]
  },
  {
   "cell_type": "code",
   "execution_count": 8,
   "metadata": {},
   "outputs": [
    {
     "data": {
      "text/html": [
       "<div>\n",
       "<style scoped>\n",
       "    .dataframe tbody tr th:only-of-type {\n",
       "        vertical-align: middle;\n",
       "    }\n",
       "\n",
       "    .dataframe tbody tr th {\n",
       "        vertical-align: top;\n",
       "    }\n",
       "\n",
       "    .dataframe thead th {\n",
       "        text-align: right;\n",
       "    }\n",
       "</style>\n",
       "<table border=\"1\" class=\"dataframe\">\n",
       "  <thead>\n",
       "    <tr style=\"text-align: right;\">\n",
       "      <th></th>\n",
       "      <th>id</th>\n",
       "      <th>name</th>\n",
       "      <th>blurb</th>\n",
       "      <th>goal</th>\n",
       "      <th>pledged</th>\n",
       "      <th>state</th>\n",
       "      <th>country</th>\n",
       "      <th>backers_count</th>\n",
       "      <th>usd_pledged</th>\n",
       "      <th>category</th>\n",
       "      <th>subcategory</th>\n",
       "      <th>launched_at_str</th>\n",
       "      <th>deadline_str</th>\n",
       "      <th>duration_days</th>\n",
       "      <th>deadline_int</th>\n",
       "    </tr>\n",
       "  </thead>\n",
       "  <tbody>\n",
       "  </tbody>\n",
       "</table>\n",
       "</div>"
      ],
      "text/plain": [
       "Empty DataFrame\n",
       "Columns: [id, name, blurb, goal, pledged, state, country, backers_count, usd_pledged, category, subcategory, launched_at_str, deadline_str, duration_days, deadline_int]\n",
       "Index: []"
      ]
     },
     "execution_count": 8,
     "metadata": {},
     "output_type": "execute_result"
    }
   ],
   "source": [
    "df.loc[df.isnull().any(axis=1)==True,:]"
   ]
  },
  {
   "cell_type": "markdown",
   "metadata": {},
   "source": [
    "As we can see above there are no rows with null values, so we don't have to worry about dealing with null values."
   ]
  },
  {
   "cell_type": "markdown",
   "metadata": {},
   "source": [
    "### Data Visualization"
   ]
  },
  {
   "cell_type": "markdown",
   "metadata": {},
   "source": [
    "#### Impact of Categories and Subcategories"
   ]
  },
  {
   "cell_type": "markdown",
   "metadata": {},
   "source": [
    "Let's start by looking at how different categories and subcategories rank against each other:"
   ]
  },
  {
   "cell_type": "code",
   "execution_count": 9,
   "metadata": {},
   "outputs": [],
   "source": [
    "# Code for successful kickstarters in 'category'\n",
    "item = df['category'].unique()\n",
    "out = {}\n",
    "counts = df['category'].value_counts().tolist()\n",
    "for val in item:\n",
    "    temp = df[(df['category']== val) & (df['state']=='successful')]['id'].size\n",
    "    out[val] = temp\n",
    "    \n",
    "# Code for successful kickstarters in 'subcategory'\n",
    "item2 = df['subcategory'].unique()\n",
    "out2 = {}\n",
    "counts1 = df['subcategory'].value_counts().tolist()\n",
    "for val in item2:\n",
    "    temp2 = df[(df['subcategory']== val) & (df['state']=='successful')]['id'].size\n",
    "    out2[val] = temp2\n",
    "    \n",
    "# Code to get success rate for 'category'\n",
    "dict1 = df['category'].value_counts().to_dict() # total vals\n",
    "dict2 = out # successful (out)\n",
    "dict3 = {} # success rate\n",
    "for cat in item:\n",
    "    total = dict1[cat]\n",
    "    success = dict2[cat]\n",
    "    dict3[cat] = success/total\n",
    "testList = list(dict3.values())\n",
    "testList2 = np.sort(testList)\n",
    "testList3 = testList2[::-1]\n",
    "sorted_x = sorted(dict3.items(), key=operator.itemgetter(1), reverse=True)\n",
    "\n",
    "# Code to get success rate for 'subcategory'\n",
    "dict4 = df['subcategory'].value_counts().to_dict() # total vals\n",
    "dict5 = out2 # successful (out)\n",
    "dict6 = {} # success rate\n",
    "for cat in item2:\n",
    "    total2 = dict4[cat]\n",
    "    success2 = dict5[cat]\n",
    "    dict6[cat] = success2/total2\n",
    "testList4 = list(dict6.values())\n",
    "testList5 = np.sort(testList4)\n",
    "testList6 = testList5[::-1]\n",
    "sorted_x2 = sorted(dict6.items(), key=operator.itemgetter(1), reverse=True)"
   ]
  },
  {
   "cell_type": "code",
   "execution_count": 10,
   "metadata": {},
   "outputs": [
    {
     "name": "stdout",
     "output_type": "stream",
     "text": [
      "Here is the success rate for the categories:\n",
      "[('dance', 0.8158745956705649), ('comics', 0.7839293901879871), ('theater', 0.7053268407850081), ('publishing', 0.6799820242672392), ('music', 0.6541375505700625), ('games', 0.6097665759702133), ('design', 0.6040672574414906), ('fashion', 0.5698455339153794), ('film & video', 0.5662278149549025), ('art', 0.559406667645763), ('photography', 0.5006256256256256), ('crafts', 0.48088048539579514), ('technology', 0.37732704851687854), ('food', 0.34308841843088417), ('journalism', 0.3061792863359443)]\n",
      "Here is the success rate for the categories:\n",
      "[('Theater', 0.9974293059125964), ('Dance', 0.9961513790891597), ('Photography', 0.992953611274222), ('Comics', 0.9918533604887984), ('Indie Rock', 0.989492119089317), ('Country & Folk', 0.9804143126177024), ('Fashion', 0.9796495195025439), ('Rock', 0.9792592592592593), ('Food', 0.9752973467520586), ('Shorts', 0.9737991266375546), ('Fiction', 0.968986905582357), ('Crafts', 0.966412213740458), ('Nonfiction', 0.9606896551724138), (\"Children's Books\", 0.9508256880733945), ('Documentary', 0.9402505621586894), ('Video Games', 0.9270456786066382), ('Comic Books', 0.9226305609284333), ('Games', 0.9192982456140351), ('Design', 0.8935574229691877), ('Illustration', 0.8911937377690803), ('Technology', 0.890625), ('Narrative Film', 0.8880769230769231), ('Tabletop Games', 0.8723579467471864), ('Art', 0.8692628650904033), ('Film & Video', 0.8657142857142858), ('Music', 0.8628495339547271), ('Publishing', 0.8459302325581395), ('Residencies', 0.8181818181818182), ('Product Design', 0.8180284405880935), ('Performances', 0.7582356225572306), ('Webseries', 0.7419738406658739), ('Classical Music', 0.7377115229653505), ('Chiptune', 0.7317073170731707), ('Accessories', 0.72568093385214), ('Public Art', 0.7199413489736071), ('Apparel', 0.7178236397748593), ('Pop', 0.6995323460639127), ('Anthologies', 0.6954921803127875), ('Art Books', 0.6651532349602725), ('Hardware', 0.6308900523560209), ('Literary Spaces', 0.6263736263736264), ('Knitting', 0.6257861635220126), ('Typography', 0.6225165562913907), ('Jazz', 0.620253164556962), ('Pottery', 0.6192893401015228), ('Webcomics', 0.5851428571428572), ('Graphic Novels', 0.5836313071116408), ('Plays', 0.5768985322271857), ('Letterpress', 0.5737704918032787), ('Taxidermy', 0.5555555555555556), ('Playing Cards', 0.5545529122231337), ('Painting', 0.550582925911997), ('Festivals', 0.5375661375661376), ('Immersive', 0.5308641975308642), ('Musical', 0.5179786200194364), ('Stationery', 0.5096952908587258), ('Camera Equipment', 0.5072727272727273), ('DIY Electronics', 0.49572649572649574), ('Performance Art', 0.490987460815047), ('Zines', 0.48760330578512395), ('Photobooks', 0.48539971278123506), ('Mixed Media', 0.4778625954198473), ('Radio & Podcasts', 0.47322212467076386), ('Literary Journals', 0.4722222222222222), ('Workshops', 0.4721030042918455), ('Periodicals', 0.47187293183322304), ('World Music', 0.4614406779661017), ('Installations', 0.46075085324232085), ('Weaving', 0.4552238805970149), ('Kids', 0.4528301886792453), ('Gadgets', 0.45215686274509803), ('Punk', 0.45081967213114754), ('Fine Art', 0.4483450351053159), ('Robots', 0.44553072625698326), ('Sculpture', 0.44206607724523034), ('Ceramics', 0.4419889502762431), ('Graphic Design', 0.4403706688154714), ('Blues', 0.4391025641025641), ('Space Exploration', 0.43828715365239296), ('Sound', 0.4304932735426009), ('Faith', 0.428454619787408), ('Glass', 0.41414141414141414), ('Conceptual Art', 0.4114285714285714), ('Journalism', 0.41065573770491803), ('Woodworking', 0.40900791235544737), ('Puzzles', 0.4083044982698962), ('Calendars', 0.40540540540540543), ('3D Printing', 0.4045077105575326), ('Poetry', 0.40351941747572817), ('Metal', 0.40272614622057), ('Comedy', 0.4007936507936508), ('Audio', 0.39631336405529954), ('Drama', 0.3932538050185109), ('Experimental', 0.388268156424581), ('Spaces', 0.38653846153846155), ('Quilts', 0.37272727272727274), ('Civic Design', 0.3652694610778443), ('Crochet', 0.35454545454545455), ('Science Fiction', 0.35172413793103446), ('Print', 0.3505338078291815), ('Makerspaces', 0.34172661870503596), ('Animals', 0.3395061728395062), ('Music Videos', 0.33764553686934023), ('Printing', 0.3343558282208589), ('Electronic Music', 0.3334722801167153), ('Footwear', 0.3316540722082284), ('Wearables', 0.32798931195724784), ('Animation', 0.3249797898140663), ('Movie Theaters', 0.3240223463687151), ('Horror', 0.3238786279683377), ('Small Batch', 0.32151529868868384), ('Fantasy', 0.31862745098039214), ('Embroidery', 0.3184713375796178), ('Vegan', 0.31681877444589307), ('Digital Art', 0.3160651920838184), ('Textiles', 0.3115727002967359), ('Pet Fashion', 0.3), ('Drinks', 0.29823842687423185), ('Fabrication Tools', 0.29276315789473684), ('Romance', 0.2894736842105263), ('Hip-Hop', 0.286696320258795), ('Jewelry', 0.2841565105837075), ('People', 0.2819745699326851), ('Thrillers', 0.28160919540229884), ('Gaming Hardware', 0.277882797731569), ('Video Art', 0.2764976958525346), ('Latin', 0.27586206896551724), ('Cookbooks', 0.27388535031847133), ('DIY', 0.2656147271531887), ('Nature', 0.24372230428360414), ('Architecture', 0.2425287356321839), ('Photo', 0.23920265780730898), ('R&B', 0.2383612662942272), ('Community Gardens', 0.23510971786833856), ('Restaurants', 0.23076923076923078), ('Software', 0.23038652889399158), ('Translations', 0.2303370786516854), ('Places', 0.2277456647398844), ('Candles', 0.2264808362369338), ('Flight', 0.21987315010570824), ('Childrenswear', 0.21967213114754097), ('Young Adult', 0.21518987341772153), ('Farms', 0.21439628482972137), ('Events', 0.20991561181434598), ('Academic', 0.20670391061452514), ('Bacon', 0.2025862068965517), ('Family', 0.19651741293532338), ('Apps', 0.19014084507042253), ('Ready-to-wear', 0.18696883852691218), ('Video', 0.1836734693877551), ('Interactive Design', 0.1830065359477124), ('Live Games', 0.1793160967472894), ('Couture', 0.1755485893416928), ('Web', 0.17463617463617465), (\"Farmer's Markets\", 0.17124735729386892), ('Mobile Games', 0.16653543307086613), ('Action', 0.15871121718377088), ('Television', 0.15594713656387665), ('Food Trucks', 0.12747587607922803)]\n"
     ]
    }
   ],
   "source": [
    "print(\"Here is the success rate for the categories:\")\n",
    "print(sorted_x)\n",
    "print(\"Here is the success rate for the categories:\")\n",
    "print(sorted_x2)"
   ]
  },
  {
   "cell_type": "markdown",
   "metadata": {},
   "source": [
    "#### Impact of Project Description Words"
   ]
  },
  {
   "cell_type": "markdown",
   "metadata": {},
   "source": [
    "Next, we will examine how using certain words to describe a Kickstarter project may have an effect on the success. We begin by separating successful and failed projects. Then, we want to create a dataframe with each word and the number of times it appears."
   ]
  },
  {
   "cell_type": "code",
   "execution_count": 109,
   "metadata": {},
   "outputs": [],
   "source": [
    "# Create dataframes for kickstarters that are successful and fail\n",
    "df_successful = df.loc[df['state']=='successful',:]\n",
    "df_fail = df.loc[df['state']=='failed',:]"
   ]
  },
  {
   "cell_type": "code",
   "execution_count": 110,
   "metadata": {},
   "outputs": [],
   "source": [
    "# Create a dictionary of words with their counts\n",
    "success_words = {}\n",
    "fail_words = {}\n",
    "\n",
    "for description in df_successful['blurb']:\n",
    "    for word in description.split(' '):\n",
    "        word = word.lower()\n",
    "        word = word.strip()\n",
    "        word = word.replace('.', '')\n",
    "        word = word.replace(\"\\\"\", '')\n",
    "        word = word.replace(',', '')\n",
    "        word = word.replace(';', '')\n",
    "        word = word.replace('!', '')\n",
    "        word = word.replace('?', '')\n",
    "        word = word.replace('\\n', '')\n",
    "        \n",
    "        if len(word) == 0:\n",
    "            continue\n",
    "        elif word not in success_words:\n",
    "            success_words[word] = 1\n",
    "        else:\n",
    "            success_words[word] += 1\n",
    "            \n",
    "for description in df_fail['blurb']:\n",
    "    for word in description.split(' '):\n",
    "        word = word.lower()\n",
    "        word = word.strip()\n",
    "        word = word.replace('.', '')\n",
    "        word = word.replace(\"\\\"\", '')\n",
    "        word = word.replace(',', '')\n",
    "        word = word.replace(';', '')\n",
    "        word = word.replace('!', '')\n",
    "        word = word.replace('?', '')\n",
    "        word = word.replace('\\n', '')\n",
    "        \n",
    "        if len(word) == 0:\n",
    "            continue\n",
    "        elif word not in fail_words:\n",
    "            fail_words[word] = 1\n",
    "        else:\n",
    "            fail_words[word] += 1\n",
    "\n",
    "df_success_words = pd.DataFrame.from_dict(success_words, orient='index', columns=['count'])\n",
    "df_fail_words = pd.DataFrame.from_dict(fail_words, orient='index', columns=['count'])"
   ]
  },
  {
   "cell_type": "markdown",
   "metadata": {},
   "source": [
    "We don't care about stop words, because they are bound to appear in any description. We want to focus on more unique words so these stop words (based on https://www.textfixer.com/tutorials/common-english-words.txt) will be dropped."
   ]
  },
  {
   "cell_type": "code",
   "execution_count": 111,
   "metadata": {},
   "outputs": [],
   "source": [
    "# Drop stop words\n",
    "common = ['a','able','about','across','after','all','almost','also','am','among','an','and','any','are',\n",
    "          'as','at','be','because','been','but','by','can','cannot','could','dear','did','do','does',\n",
    "          'either','else','ever','every','for','from','get','got','had','has','have','he','her','hers',\n",
    "          'him','his','how','however','i','if','in','into','is','it','its','just','least','let','like',\n",
    "          'likely','may','me','might','most','must','my','neither','no','nor','not','of','off','often',\n",
    "          'on','only','or','other','our','own','rather','said','say','says','she','should','since','so',\n",
    "          'some','than','that','the','their','them','then','there','these','they','this','to','too',\n",
    "          'twas','us','wants','was','we','were','what','when','where','which','while','who','whom','why',\n",
    "          'will','with','would','yet','you','your', '-', '&', \"i'm\", \"it's\"]\n",
    "\n",
    "df_success_words.drop(common, inplace=True)\n",
    "df_fail_words.drop(common, inplace=True)"
   ]
  },
  {
   "cell_type": "markdown",
   "metadata": {},
   "source": [
    "We have removed the stop words but there are also words that appear very few times. There no point in looking at words with such low counts so we will filter words that fall below a certain threshold. Here, we are aiming to narrow down to about 25 words, so that we are not overwhelmed with words"
   ]
  },
  {
   "cell_type": "code",
   "execution_count": 112,
   "metadata": {},
   "outputs": [],
   "source": [
    "# Get rid of words with low frequency\n",
    "df_success_words = df_success_words.loc[df_success_words['count']>3000,:]\n",
    "df_success_words.sort_values(by=['count'], ascending=False, inplace=True)\n",
    "\n",
    "df_fail_words = df_fail_words.loc[df_fail_words['count']>2000,:]\n",
    "df_fail_words.sort_values(by=['count'], ascending=False, inplace=True)\n",
    "\n",
    "# Fix indexing and make column for word\n",
    "df_success_words.reset_index(inplace=True)\n",
    "df_success_words.columns = ['word', 'count']\n",
    "\n",
    "df_fail_words.reset_index(inplace=True)\n",
    "df_fail_words.columns = ['word', 'count']"
   ]
  },
  {
   "cell_type": "code",
   "execution_count": 113,
   "metadata": {},
   "outputs": [
    {
     "data": {
      "text/html": [
       "<div>\n",
       "<style scoped>\n",
       "    .dataframe tbody tr th:only-of-type {\n",
       "        vertical-align: middle;\n",
       "    }\n",
       "\n",
       "    .dataframe tbody tr th {\n",
       "        vertical-align: top;\n",
       "    }\n",
       "\n",
       "    .dataframe thead th {\n",
       "        text-align: right;\n",
       "    }\n",
       "</style>\n",
       "<table border=\"1\" class=\"dataframe\">\n",
       "  <thead>\n",
       "    <tr style=\"text-align: right;\">\n",
       "      <th></th>\n",
       "      <th>word</th>\n",
       "      <th>count</th>\n",
       "    </tr>\n",
       "  </thead>\n",
       "  <tbody>\n",
       "    <tr>\n",
       "      <th>0</th>\n",
       "      <td>help</td>\n",
       "      <td>14215</td>\n",
       "    </tr>\n",
       "    <tr>\n",
       "      <th>1</th>\n",
       "      <td>new</td>\n",
       "      <td>12969</td>\n",
       "    </tr>\n",
       "    <tr>\n",
       "      <th>2</th>\n",
       "      <td>book</td>\n",
       "      <td>7550</td>\n",
       "    </tr>\n",
       "    <tr>\n",
       "      <th>3</th>\n",
       "      <td>first</td>\n",
       "      <td>6902</td>\n",
       "    </tr>\n",
       "    <tr>\n",
       "      <th>4</th>\n",
       "      <td>album</td>\n",
       "      <td>6635</td>\n",
       "    </tr>\n",
       "    <tr>\n",
       "      <th>5</th>\n",
       "      <td>art</td>\n",
       "      <td>6405</td>\n",
       "    </tr>\n",
       "    <tr>\n",
       "      <th>6</th>\n",
       "      <td>music</td>\n",
       "      <td>5826</td>\n",
       "    </tr>\n",
       "    <tr>\n",
       "      <th>7</th>\n",
       "      <td>world</td>\n",
       "      <td>5647</td>\n",
       "    </tr>\n",
       "    <tr>\n",
       "      <th>8</th>\n",
       "      <td>make</td>\n",
       "      <td>5205</td>\n",
       "    </tr>\n",
       "    <tr>\n",
       "      <th>9</th>\n",
       "      <td>film</td>\n",
       "      <td>5117</td>\n",
       "    </tr>\n",
       "  </tbody>\n",
       "</table>\n",
       "</div>"
      ],
      "text/plain": [
       "    word  count\n",
       "0   help  14215\n",
       "1    new  12969\n",
       "2   book   7550\n",
       "3  first   6902\n",
       "4  album   6635\n",
       "5    art   6405\n",
       "6  music   5826\n",
       "7  world   5647\n",
       "8   make   5205\n",
       "9   film   5117"
      ]
     },
     "execution_count": 113,
     "metadata": {},
     "output_type": "execute_result"
    }
   ],
   "source": [
    "df_success_words.head(n=10)"
   ]
  },
  {
   "cell_type": "code",
   "execution_count": 114,
   "metadata": {},
   "outputs": [
    {
     "data": {
      "text/html": [
       "<div>\n",
       "<style scoped>\n",
       "    .dataframe tbody tr th:only-of-type {\n",
       "        vertical-align: middle;\n",
       "    }\n",
       "\n",
       "    .dataframe tbody tr th {\n",
       "        vertical-align: top;\n",
       "    }\n",
       "\n",
       "    .dataframe thead th {\n",
       "        text-align: right;\n",
       "    }\n",
       "</style>\n",
       "<table border=\"1\" class=\"dataframe\">\n",
       "  <thead>\n",
       "    <tr style=\"text-align: right;\">\n",
       "      <th></th>\n",
       "      <th>word</th>\n",
       "      <th>count</th>\n",
       "    </tr>\n",
       "  </thead>\n",
       "  <tbody>\n",
       "    <tr>\n",
       "      <th>0</th>\n",
       "      <td>help</td>\n",
       "      <td>7201</td>\n",
       "    </tr>\n",
       "    <tr>\n",
       "      <th>1</th>\n",
       "      <td>new</td>\n",
       "      <td>5908</td>\n",
       "    </tr>\n",
       "    <tr>\n",
       "      <th>2</th>\n",
       "      <td>music</td>\n",
       "      <td>4136</td>\n",
       "    </tr>\n",
       "    <tr>\n",
       "      <th>3</th>\n",
       "      <td>make</td>\n",
       "      <td>4060</td>\n",
       "    </tr>\n",
       "    <tr>\n",
       "      <th>4</th>\n",
       "      <td>want</td>\n",
       "      <td>3886</td>\n",
       "    </tr>\n",
       "    <tr>\n",
       "      <th>5</th>\n",
       "      <td>world</td>\n",
       "      <td>3882</td>\n",
       "    </tr>\n",
       "    <tr>\n",
       "      <th>6</th>\n",
       "      <td>art</td>\n",
       "      <td>3695</td>\n",
       "    </tr>\n",
       "    <tr>\n",
       "      <th>7</th>\n",
       "      <td>create</td>\n",
       "      <td>3338</td>\n",
       "    </tr>\n",
       "    <tr>\n",
       "      <th>8</th>\n",
       "      <td>people</td>\n",
       "      <td>3205</td>\n",
       "    </tr>\n",
       "    <tr>\n",
       "      <th>9</th>\n",
       "      <td>project</td>\n",
       "      <td>3184</td>\n",
       "    </tr>\n",
       "  </tbody>\n",
       "</table>\n",
       "</div>"
      ],
      "text/plain": [
       "      word  count\n",
       "0     help   7201\n",
       "1      new   5908\n",
       "2    music   4136\n",
       "3     make   4060\n",
       "4     want   3886\n",
       "5    world   3882\n",
       "6      art   3695\n",
       "7   create   3338\n",
       "8   people   3205\n",
       "9  project   3184"
      ]
     },
     "execution_count": 114,
     "metadata": {},
     "output_type": "execute_result"
    }
   ],
   "source": [
    "df_fail_words.head(n=10)"
   ]
  },
  {
   "cell_type": "markdown",
   "metadata": {},
   "source": [
    "Now that we have the words and their counts, we can plot to see how common certain words in successful projects are"
   ]
  },
  {
   "cell_type": "code",
   "execution_count": 115,
   "metadata": {},
   "outputs": [
    {
     "data": {
      "text/plain": [
       "<matplotlib.axes._subplots.AxesSubplot at 0x1a46e548d0>"
      ]
     },
     "execution_count": 115,
     "metadata": {},
     "output_type": "execute_result"
    },
    {
     "data": {
      "image/png": "[encoded data removed]",
      "text/plain": [
       "<Figure size 432x288 with 1 Axes>"
      ]
     },
     "metadata": {
      "needs_background": "light"
     },
     "output_type": "display_data"
    }
   ],
   "source": [
    "df_success_words.plot(x='word', kind='bar')"
   ]
  },
  {
   "cell_type": "code",
   "execution_count": 116,
   "metadata": {},
   "outputs": [
    {
     "data": {
      "text/plain": [
       "<matplotlib.axes._subplots.AxesSubplot at 0x1a46efbf28>"
      ]
     },
     "execution_count": 116,
     "metadata": {},
     "output_type": "execute_result"
    },
    {
     "data": {
      "image/png": "[encoded data removed]",
      "text/plain": [
       "<Figure size 432x288 with 1 Axes>"
      ]
     },
     "metadata": {
      "needs_background": "light"
     },
     "output_type": "display_data"
    }
   ],
   "source": [
    "df_fail_words.plot(x='word', kind='bar')"
   ]
  },
  {
   "cell_type": "markdown",
   "metadata": {},
   "source": [
    "#### Impact of Start Date and Duration"
   ]
  },
  {
   "cell_type": "code",
   "execution_count": null,
   "metadata": {},
   "outputs": [],
   "source": []
  },
  {
   "cell_type": "markdown",
   "metadata": {},
   "source": [
    "#### Impact of Goal Amount"
   ]
  },
  {
   "cell_type": "code",
   "execution_count": null,
   "metadata": {},
   "outputs": [],
   "source": []
  },
  {
   "cell_type": "markdown",
   "metadata": {},
   "source": [
    "### Data Analysis and Results##"
   ]
  },
  {
   "cell_type": "markdown",
   "metadata": {},
   "source": [
    "#### Impact of Categories and Subcategories"
   ]
  },
  {
   "cell_type": "code",
   "execution_count": null,
   "metadata": {},
   "outputs": [],
   "source": []
  },
  {
   "cell_type": "markdown",
   "metadata": {},
   "source": [
    "#### Impact of Project Description Words"
   ]
  },
  {
   "cell_type": "markdown",
   "metadata": {},
   "source": [
    "In the data visualization, we saw that the top 5 words to used in successful projects were \"help\", \"new\", \"book\", \"first\", and \"album\". However, it seemed a bit suspicious that using the word \"help\" had such an impact on the success of a kickstarter. Therefore, we examined the unsuccessful projects and \"help\" was also the most used word. The same applied to the word \"new\". This brings us towards the idea that \"help\" and \"new\" are words common to any Kickstarter project, especially with their extremely high counts, and their use does not have a direct relation with the success of a project. If we look at the bar plots we had generated before, the word count increase quite linearly, but once we get to \"help\" and \"new\", the values jump up eratically. We shall drop these two words from our dataframes."
   ]
  },
  {
   "cell_type": "code",
   "execution_count": 124,
   "metadata": {},
   "outputs": [
    {
     "name": "stdout",
     "output_type": "stream",
     "text": [
      "Success words: \n",
      "['book', 'first', 'album', 'art', 'music', 'world', 'make', 'film', 'one', 'need', 'project', 'life', 'story', 'game', 'love', 'more', 'series', 'out', 'through', 'time', 'record', 'up', 'create']\n",
      "\n",
      "Fail words: \n",
      "['music', 'make', 'want', 'world', 'art', 'create', 'people', 'project', 'need', 'one', 'life', 'first', 'book', 'love', 'film', 'more', 'game', 'food', 'album', 'time', 'through', 'out', 'up']\n"
     ]
    }
   ],
   "source": [
    "df_success_words = df_success_words.loc[ ( (df_success_words['word'] != 'help') & (df_success_words['word'] != 'new') ),: ]\n",
    "df_success_words.reset_index(drop=True, inplace=True)\n",
    "\n",
    "df_fail_words = df_fail_words.loc[ ( (df_fail_words['word'] != 'help') & (df_fail_words['word'] != 'new') ),: ]\n",
    "df_fail_words.reset_index(drop=True, inplace=True)\n",
    "\n",
    "print(\"Success words: \")\n",
    "print(list(df_success_words['word']))\n",
    "print(\"\\nFail words: \")\n",
    "print(list(df_fail_words['word']))"
   ]
  },
  {
   "cell_type": "markdown",
   "metadata": {},
   "source": [
    "Even without \"help\" and \"new\", we still find a bunch of words in the succesful projects that are also top words in unsuccessful projects. This leads us to believe that perhaps these words don't have an effect on the success on a Kickstarter. It makes sense that these words are common in both successful and failed projects because they relate to the different categories and subcategories. For example, many kickstarter projects will be about books, music, art, dance, etc. A Kickstarter project in a particular category is probably going to mention words pertaining to its category and doing so probably will not affect the success or failure since it is bound to happen in virtually all project descriptions. Just to make sure, we will look for top words that only appear in successful and see if they would be significant or not towards a project's success."
   ]
  },
  {
   "cell_type": "code",
   "execution_count": 128,
   "metadata": {},
   "outputs": [
    {
     "name": "stdout",
     "output_type": "stream",
     "text": [
      "['story', 'series', 'record']\n"
     ]
    }
   ],
   "source": [
    "def find_uniques(list1, list2):\n",
    "    result = []\n",
    "    for word in list1:\n",
    "        if word not in list2:\n",
    "            result.append(word) \n",
    "    return result\n",
    "\n",
    "uniques = find_uniques(list(df_success_words['word']), list(df_fail_words['word']))\n",
    "print(uniques)"
   ]
  },
  {
   "cell_type": "markdown",
   "metadata": {},
   "source": [
    "We find that the only uniquely successful words are 'story', 'series', and 'record'. Based on the dataset, these words have some correlation to success but it is not the causation of success. One connection is that these three words are all related to some form of art such as books, comics, and music, and the arts tend to be the more popular categories. Therefore, one cannot use certain words to directly make their Kickstarter project succeed. Instead, it seems that the category of the project drives users to use certain words to describe their project and certain categories are more successful than others."
   ]
  },
  {
   "cell_type": "markdown",
   "metadata": {},
   "source": [
    "#### Impact of Start Date and Duration"
   ]
  },
  {
   "cell_type": "code",
   "execution_count": null,
   "metadata": {},
   "outputs": [],
   "source": []
  },
  {
   "cell_type": "markdown",
   "metadata": {},
   "source": [
    "#### Impact of Goal Amount"
   ]
  },
  {
   "cell_type": "code",
   "execution_count": null,
   "metadata": {},
   "outputs": [],
   "source": []
  },
  {
   "cell_type": "markdown",
   "metadata": {},
   "source": [
    "### Privacy and Ethics Considerations"
   ]
  },
  {
   "cell_type": "markdown",
   "metadata": {},
   "source": [
    "For our research question, we chose to look at what makes a kickstarter project successful.  This data was collected on a website whose owners got the data by webscrapping kickstarter.  The only potential privacy issue would be that the users of kickstarter did not give us direct consent to analyze their data.  However, because kickstarter is a public forum, in order to use the site, users do have to acknowledge that the data will note be private. \n",
    "\n",
    "Additionally, we aren’t using the data to create revenue and instead using it for an academic purpose. Thus, it’s unlikely there will be issues related to privacy. Furthermore, our data does not violate the safe harbor laws as no names, addresses or other identifying information is included within the dataset.\n"
   ]
  },
  {
   "cell_type": "markdown",
   "metadata": {
    "collapsed": true
   },
   "source": [
    "### Conclusions and Discussion:\n",
    "\n"
   ]
  },
  {
   "cell_type": "markdown",
   "metadata": {},
   "source": [
    "Work in progress."
   ]
  },
  {
   "cell_type": "code",
   "execution_count": null,
   "metadata": {},
   "outputs": [],
   "source": []
  }
 ],
 "metadata": {
  "kernelspec": {
   "display_name": "Python 3",
   "language": "python",
   "name": "python3"
  },
  "language_info": {
   "codemirror_mode": {
    "name": "ipython",
    "version": 3
   },
   "file_extension": ".py",
   "mimetype": "text/x-python",
   "name": "python",
   "nbconvert_exporter": "python",
   "pygments_lexer": "ipython3",
   "version": "3.7.1"
  }
 },
 "nbformat": 4,
 "nbformat_minor": 2
}
